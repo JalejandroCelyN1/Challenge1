{
 "cells": [
  {
   "cell_type": "markdown",
   "id": "e7203a00",
   "metadata": {},
   "source": [
    "# Análisis de Tiendas Alura Store\n",
    "\n",
    "En este notebook analizaremos los datos de ventas, rendimiento y reseñas de las 4 tiendas de la cadena Alura Store. El objetivo es identificar la tienda menos eficiente y recomendar cuál debería vender el Sr. Juan para iniciar un nuevo emprendimiento.\n",
    "\n",
    "**Pasos:**\n",
    "1. Cargar y explorar los datos de las tiendas.\n",
    "2. Analizar métricas clave: ingresos, categorías más vendidas, reseñas, productos más vendidos y envío promedio.\n",
    "3. Visualizar los resultados con gráficos.\n",
    "4. Presentar una recomendación final basada en los datos."
   ]
  },
  {
   "cell_type": "code",
   "execution_count": 1,
   "id": "6caa7125",
   "metadata": {},
   "outputs": [],
   "source": [
    "# Importar librerías necesarias\n",
    "import pandas as pd\n",
    "import matplotlib.pyplot as plt\n",
    "import os"
   ]
  },
  {
   "cell_type": "code",
   "execution_count": 2,
   "id": "b2ae86d7",
   "metadata": {},
   "outputs": [
    {
     "name": "stdout",
     "output_type": "stream",
     "text": [
      "Archivo no encontrado: tienda_1.csv\n",
      "\n",
      "Tienda 2\n"
     ]
    },
    {
     "data": {
      "text/html": [
       "<div>\n",
       "<style scoped>\n",
       "    .dataframe tbody tr th:only-of-type {\n",
       "        vertical-align: middle;\n",
       "    }\n",
       "\n",
       "    .dataframe tbody tr th {\n",
       "        vertical-align: top;\n",
       "    }\n",
       "\n",
       "    .dataframe thead th {\n",
       "        text-align: right;\n",
       "    }\n",
       "</style>\n",
       "<table border=\"1\" class=\"dataframe\">\n",
       "  <thead>\n",
       "    <tr style=\"text-align: right;\">\n",
       "      <th></th>\n",
       "      <th>Producto</th>\n",
       "      <th>Categoría del Producto</th>\n",
       "      <th>Precio</th>\n",
       "      <th>Costo de envío</th>\n",
       "      <th>Fecha de Compra</th>\n",
       "      <th>Vendedor</th>\n",
       "      <th>Lugar de Compra</th>\n",
       "      <th>Calificación</th>\n",
       "      <th>Método de pago</th>\n",
       "      <th>Cantidad de cuotas</th>\n",
       "      <th>lat</th>\n",
       "      <th>lon</th>\n",
       "    </tr>\n",
       "  </thead>\n",
       "  <tbody>\n",
       "    <tr>\n",
       "      <th>0</th>\n",
       "      <td>Silla de oficina</td>\n",
       "      <td>Muebles</td>\n",
       "      <td>283600.0</td>\n",
       "      <td>15300.0</td>\n",
       "      <td>04/08/2021</td>\n",
       "      <td>Izabela de León</td>\n",
       "      <td>Medellín</td>\n",
       "      <td>1</td>\n",
       "      <td>Nequi</td>\n",
       "      <td>1</td>\n",
       "      <td>6.25184</td>\n",
       "      <td>-75.56359</td>\n",
       "    </tr>\n",
       "    <tr>\n",
       "      <th>1</th>\n",
       "      <td>Pandereta</td>\n",
       "      <td>Instrumentos musicales</td>\n",
       "      <td>76800.0</td>\n",
       "      <td>2300.0</td>\n",
       "      <td>26/11/2020</td>\n",
       "      <td>Blanca Ramirez</td>\n",
       "      <td>Medellín</td>\n",
       "      <td>3</td>\n",
       "      <td>Tarjeta de crédito</td>\n",
       "      <td>4</td>\n",
       "      <td>6.25184</td>\n",
       "      <td>-75.56359</td>\n",
       "    </tr>\n",
       "    <tr>\n",
       "      <th>2</th>\n",
       "      <td>Cama king</td>\n",
       "      <td>Muebles</td>\n",
       "      <td>443300.0</td>\n",
       "      <td>23800.0</td>\n",
       "      <td>22/10/2021</td>\n",
       "      <td>Izabela de León</td>\n",
       "      <td>Pereira</td>\n",
       "      <td>5</td>\n",
       "      <td>Tarjeta de crédito</td>\n",
       "      <td>10</td>\n",
       "      <td>4.81333</td>\n",
       "      <td>-75.69611</td>\n",
       "    </tr>\n",
       "    <tr>\n",
       "      <th>3</th>\n",
       "      <td>Cama king</td>\n",
       "      <td>Muebles</td>\n",
       "      <td>906200.0</td>\n",
       "      <td>46400.0</td>\n",
       "      <td>04/05/2022</td>\n",
       "      <td>Maria Alfonso</td>\n",
       "      <td>Cali</td>\n",
       "      <td>5</td>\n",
       "      <td>Tarjeta de crédito</td>\n",
       "      <td>10</td>\n",
       "      <td>3.43722</td>\n",
       "      <td>-76.52250</td>\n",
       "    </tr>\n",
       "    <tr>\n",
       "      <th>4</th>\n",
       "      <td>Silla de oficina</td>\n",
       "      <td>Muebles</td>\n",
       "      <td>397800.0</td>\n",
       "      <td>19400.0</td>\n",
       "      <td>26/02/2022</td>\n",
       "      <td>Lucas Olivera</td>\n",
       "      <td>Bogotá</td>\n",
       "      <td>4</td>\n",
       "      <td>Tarjeta de crédito</td>\n",
       "      <td>3</td>\n",
       "      <td>4.60971</td>\n",
       "      <td>-74.08175</td>\n",
       "    </tr>\n",
       "  </tbody>\n",
       "</table>\n",
       "</div>"
      ],
      "text/plain": [
       "           Producto  Categoría del Producto    Precio  Costo de envío  \\\n",
       "0  Silla de oficina                 Muebles  283600.0         15300.0   \n",
       "1         Pandereta  Instrumentos musicales   76800.0          2300.0   \n",
       "2         Cama king                 Muebles  443300.0         23800.0   \n",
       "3         Cama king                 Muebles  906200.0         46400.0   \n",
       "4  Silla de oficina                 Muebles  397800.0         19400.0   \n",
       "\n",
       "  Fecha de Compra         Vendedor Lugar de Compra  Calificación  \\\n",
       "0      04/08/2021  Izabela de León        Medellín             1   \n",
       "1      26/11/2020   Blanca Ramirez        Medellín             3   \n",
       "2      22/10/2021  Izabela de León         Pereira             5   \n",
       "3      04/05/2022    Maria Alfonso            Cali             5   \n",
       "4      26/02/2022    Lucas Olivera          Bogotá             4   \n",
       "\n",
       "       Método de pago  Cantidad de cuotas      lat       lon  \n",
       "0               Nequi                   1  6.25184 -75.56359  \n",
       "1  Tarjeta de crédito                   4  6.25184 -75.56359  \n",
       "2  Tarjeta de crédito                  10  4.81333 -75.69611  \n",
       "3  Tarjeta de crédito                  10  3.43722 -76.52250  \n",
       "4  Tarjeta de crédito                   3  4.60971 -74.08175  "
      ]
     },
     "metadata": {},
     "output_type": "display_data"
    },
    {
     "name": "stdout",
     "output_type": "stream",
     "text": [
      "\n",
      "Tienda 3\n"
     ]
    },
    {
     "data": {
      "text/html": [
       "<div>\n",
       "<style scoped>\n",
       "    .dataframe tbody tr th:only-of-type {\n",
       "        vertical-align: middle;\n",
       "    }\n",
       "\n",
       "    .dataframe tbody tr th {\n",
       "        vertical-align: top;\n",
       "    }\n",
       "\n",
       "    .dataframe thead th {\n",
       "        text-align: right;\n",
       "    }\n",
       "</style>\n",
       "<table border=\"1\" class=\"dataframe\">\n",
       "  <thead>\n",
       "    <tr style=\"text-align: right;\">\n",
       "      <th></th>\n",
       "      <th>Producto</th>\n",
       "      <th>Categoría del Producto</th>\n",
       "      <th>Precio</th>\n",
       "      <th>Costo de envío</th>\n",
       "      <th>Fecha de Compra</th>\n",
       "      <th>Vendedor</th>\n",
       "      <th>Lugar de Compra</th>\n",
       "      <th>Calificación</th>\n",
       "      <th>Método de pago</th>\n",
       "      <th>Cantidad de cuotas</th>\n",
       "      <th>lat</th>\n",
       "      <th>lon</th>\n",
       "    </tr>\n",
       "  </thead>\n",
       "  <tbody>\n",
       "    <tr>\n",
       "      <th>0</th>\n",
       "      <td>Secadora de ropa</td>\n",
       "      <td>Electrodomésticos</td>\n",
       "      <td>1285100.0</td>\n",
       "      <td>66600.0</td>\n",
       "      <td>17/12/2021</td>\n",
       "      <td>Camila Rivera</td>\n",
       "      <td>Santa Marta</td>\n",
       "      <td>4</td>\n",
       "      <td>Tarjeta de crédito</td>\n",
       "      <td>4</td>\n",
       "      <td>11.24079</td>\n",
       "      <td>-74.19904</td>\n",
       "    </tr>\n",
       "    <tr>\n",
       "      <th>1</th>\n",
       "      <td>Mesa de noche</td>\n",
       "      <td>Muebles</td>\n",
       "      <td>290100.0</td>\n",
       "      <td>13600.0</td>\n",
       "      <td>10/02/2021</td>\n",
       "      <td>Maria Alfonso</td>\n",
       "      <td>Cali</td>\n",
       "      <td>3</td>\n",
       "      <td>Tarjeta de crédito</td>\n",
       "      <td>1</td>\n",
       "      <td>3.43722</td>\n",
       "      <td>-76.52250</td>\n",
       "    </tr>\n",
       "    <tr>\n",
       "      <th>2</th>\n",
       "      <td>Guitarra acústica</td>\n",
       "      <td>Instrumentos musicales</td>\n",
       "      <td>303500.0</td>\n",
       "      <td>17400.0</td>\n",
       "      <td>22/01/2023</td>\n",
       "      <td>Lucas Olivera</td>\n",
       "      <td>Bogotá</td>\n",
       "      <td>5</td>\n",
       "      <td>Tarjeta de crédito</td>\n",
       "      <td>3</td>\n",
       "      <td>4.60971</td>\n",
       "      <td>-74.08175</td>\n",
       "    </tr>\n",
       "    <tr>\n",
       "      <th>3</th>\n",
       "      <td>Balón de voleibol</td>\n",
       "      <td>Deportes y diversión</td>\n",
       "      <td>58800.0</td>\n",
       "      <td>3300.0</td>\n",
       "      <td>22/03/2022</td>\n",
       "      <td>Pedro Gomez</td>\n",
       "      <td>Barranquilla</td>\n",
       "      <td>4</td>\n",
       "      <td>Tarjeta de crédito</td>\n",
       "      <td>6</td>\n",
       "      <td>10.96854</td>\n",
       "      <td>-74.78132</td>\n",
       "    </tr>\n",
       "    <tr>\n",
       "      <th>4</th>\n",
       "      <td>Armario</td>\n",
       "      <td>Muebles</td>\n",
       "      <td>521100.0</td>\n",
       "      <td>25900.0</td>\n",
       "      <td>12/01/2022</td>\n",
       "      <td>Blanca Ramirez</td>\n",
       "      <td>Bogotá</td>\n",
       "      <td>1</td>\n",
       "      <td>Tarjeta de crédito</td>\n",
       "      <td>1</td>\n",
       "      <td>4.60971</td>\n",
       "      <td>-74.08175</td>\n",
       "    </tr>\n",
       "  </tbody>\n",
       "</table>\n",
       "</div>"
      ],
      "text/plain": [
       "            Producto  Categoría del Producto     Precio  Costo de envío  \\\n",
       "0   Secadora de ropa       Electrodomésticos  1285100.0         66600.0   \n",
       "1      Mesa de noche                 Muebles   290100.0         13600.0   \n",
       "2  Guitarra acústica  Instrumentos musicales   303500.0         17400.0   \n",
       "3  Balón de voleibol    Deportes y diversión    58800.0          3300.0   \n",
       "4            Armario                 Muebles   521100.0         25900.0   \n",
       "\n",
       "  Fecha de Compra        Vendedor Lugar de Compra  Calificación  \\\n",
       "0      17/12/2021   Camila Rivera     Santa Marta             4   \n",
       "1      10/02/2021   Maria Alfonso            Cali             3   \n",
       "2      22/01/2023   Lucas Olivera          Bogotá             5   \n",
       "3      22/03/2022     Pedro Gomez    Barranquilla             4   \n",
       "4      12/01/2022  Blanca Ramirez          Bogotá             1   \n",
       "\n",
       "       Método de pago  Cantidad de cuotas       lat       lon  \n",
       "0  Tarjeta de crédito                   4  11.24079 -74.19904  \n",
       "1  Tarjeta de crédito                   1   3.43722 -76.52250  \n",
       "2  Tarjeta de crédito                   3   4.60971 -74.08175  \n",
       "3  Tarjeta de crédito                   6  10.96854 -74.78132  \n",
       "4  Tarjeta de crédito                   1   4.60971 -74.08175  "
      ]
     },
     "metadata": {},
     "output_type": "display_data"
    },
    {
     "name": "stdout",
     "output_type": "stream",
     "text": [
      "\n",
      "Tienda 4\n"
     ]
    },
    {
     "data": {
      "text/html": [
       "<div>\n",
       "<style scoped>\n",
       "    .dataframe tbody tr th:only-of-type {\n",
       "        vertical-align: middle;\n",
       "    }\n",
       "\n",
       "    .dataframe tbody tr th {\n",
       "        vertical-align: top;\n",
       "    }\n",
       "\n",
       "    .dataframe thead th {\n",
       "        text-align: right;\n",
       "    }\n",
       "</style>\n",
       "<table border=\"1\" class=\"dataframe\">\n",
       "  <thead>\n",
       "    <tr style=\"text-align: right;\">\n",
       "      <th></th>\n",
       "      <th>Producto</th>\n",
       "      <th>Categoría del Producto</th>\n",
       "      <th>Precio</th>\n",
       "      <th>Costo de envío</th>\n",
       "      <th>Fecha de Compra</th>\n",
       "      <th>Vendedor</th>\n",
       "      <th>Lugar de Compra</th>\n",
       "      <th>Calificación</th>\n",
       "      <th>Método de pago</th>\n",
       "      <th>Cantidad de cuotas</th>\n",
       "      <th>lat</th>\n",
       "      <th>lon</th>\n",
       "    </tr>\n",
       "  </thead>\n",
       "  <tbody>\n",
       "    <tr>\n",
       "      <th>0</th>\n",
       "      <td>Lavavajillas</td>\n",
       "      <td>Electrodomésticos</td>\n",
       "      <td>1084800.0</td>\n",
       "      <td>56000.0</td>\n",
       "      <td>11/11/2022</td>\n",
       "      <td>Rafael Acosta</td>\n",
       "      <td>Bogotá</td>\n",
       "      <td>4</td>\n",
       "      <td>Tarjeta de crédito</td>\n",
       "      <td>3</td>\n",
       "      <td>4.60971</td>\n",
       "      <td>-74.08175</td>\n",
       "    </tr>\n",
       "    <tr>\n",
       "      <th>1</th>\n",
       "      <td>Cama box</td>\n",
       "      <td>Muebles</td>\n",
       "      <td>473800.0</td>\n",
       "      <td>25400.0</td>\n",
       "      <td>03/01/2020</td>\n",
       "      <td>Izabela de León</td>\n",
       "      <td>Cúcuta</td>\n",
       "      <td>5</td>\n",
       "      <td>Tarjeta de crédito</td>\n",
       "      <td>2</td>\n",
       "      <td>7.89391</td>\n",
       "      <td>-72.50782</td>\n",
       "    </tr>\n",
       "    <tr>\n",
       "      <th>2</th>\n",
       "      <td>Balón de baloncesto</td>\n",
       "      <td>Deportes y diversión</td>\n",
       "      <td>23700.0</td>\n",
       "      <td>0.0</td>\n",
       "      <td>25/12/2022</td>\n",
       "      <td>Maria Alfonso</td>\n",
       "      <td>Medellín</td>\n",
       "      <td>5</td>\n",
       "      <td>Nequi</td>\n",
       "      <td>1</td>\n",
       "      <td>6.25184</td>\n",
       "      <td>-75.56359</td>\n",
       "    </tr>\n",
       "    <tr>\n",
       "      <th>3</th>\n",
       "      <td>Modelado predictivo</td>\n",
       "      <td>Libros</td>\n",
       "      <td>57700.0</td>\n",
       "      <td>1300.0</td>\n",
       "      <td>23/11/2021</td>\n",
       "      <td>Lucas Olivera</td>\n",
       "      <td>Medellín</td>\n",
       "      <td>3</td>\n",
       "      <td>Nequi</td>\n",
       "      <td>1</td>\n",
       "      <td>6.25184</td>\n",
       "      <td>-75.56359</td>\n",
       "    </tr>\n",
       "    <tr>\n",
       "      <th>4</th>\n",
       "      <td>Auriculares</td>\n",
       "      <td>Electrónicos</td>\n",
       "      <td>138900.0</td>\n",
       "      <td>5600.0</td>\n",
       "      <td>25/04/2022</td>\n",
       "      <td>Blanca Ramirez</td>\n",
       "      <td>Bogotá</td>\n",
       "      <td>4</td>\n",
       "      <td>Tarjeta de crédito</td>\n",
       "      <td>7</td>\n",
       "      <td>4.60971</td>\n",
       "      <td>-74.08175</td>\n",
       "    </tr>\n",
       "  </tbody>\n",
       "</table>\n",
       "</div>"
      ],
      "text/plain": [
       "              Producto Categoría del Producto     Precio  Costo de envío  \\\n",
       "0         Lavavajillas      Electrodomésticos  1084800.0         56000.0   \n",
       "1             Cama box                Muebles   473800.0         25400.0   \n",
       "2  Balón de baloncesto   Deportes y diversión    23700.0             0.0   \n",
       "3  Modelado predictivo                 Libros    57700.0          1300.0   \n",
       "4          Auriculares           Electrónicos   138900.0          5600.0   \n",
       "\n",
       "  Fecha de Compra         Vendedor Lugar de Compra  Calificación  \\\n",
       "0      11/11/2022    Rafael Acosta          Bogotá             4   \n",
       "1      03/01/2020  Izabela de León          Cúcuta             5   \n",
       "2      25/12/2022    Maria Alfonso        Medellín             5   \n",
       "3      23/11/2021    Lucas Olivera        Medellín             3   \n",
       "4      25/04/2022   Blanca Ramirez          Bogotá             4   \n",
       "\n",
       "       Método de pago  Cantidad de cuotas      lat       lon  \n",
       "0  Tarjeta de crédito                   3  4.60971 -74.08175  \n",
       "1  Tarjeta de crédito                   2  7.89391 -72.50782  \n",
       "2               Nequi                   1  6.25184 -75.56359  \n",
       "3               Nequi                   1  6.25184 -75.56359  \n",
       "4  Tarjeta de crédito                   7  4.60971 -74.08175  "
      ]
     },
     "metadata": {},
     "output_type": "display_data"
    }
   ],
   "source": [
    "# Cargar los datos de las 4 tiendas\n",
    "files = ['tienda_1.csv', 'tienda_2.csv', 'tienda_3.csv', 'tienda_4.csv']\n",
    "\n",
    "# Crear un diccionario para almacenar los DataFrames\n",
    "tiendas = {}\n",
    "for i, file in enumerate(files, 1):\n",
    "    if os.path.exists(file):\n",
    "        tiendas[f'Tienda {i}'] = pd.read_csv(file)\n",
    "    else:\n",
    "        print(f'Archivo no encontrado: {file}')\n",
    "\n",
    "# Mostrar las primeras filas de cada tienda\n",
    "for nombre, df in tiendas.items():\n",
    "    print(f'\\n{nombre}')\n",
    "    display(df.head())"
   ]
  },
  {
   "cell_type": "markdown",
   "id": "165c8bbf",
   "metadata": {},
   "source": [
    "## Exploración inicial de los datos\n",
    "\n",
    "A continuación, se muestran las primeras filas de cada tienda para entender la estructura de los datos y las columnas disponibles. Esto nos permitirá identificar las métricas clave para el análisis."
   ]
  },
  {
   "cell_type": "code",
   "execution_count": 3,
   "id": "b34fb49c",
   "metadata": {},
   "outputs": [
    {
     "data": {
      "text/html": [
       "<div>\n",
       "<style scoped>\n",
       "    .dataframe tbody tr th:only-of-type {\n",
       "        vertical-align: middle;\n",
       "    }\n",
       "\n",
       "    .dataframe tbody tr th {\n",
       "        vertical-align: top;\n",
       "    }\n",
       "\n",
       "    .dataframe thead th {\n",
       "        text-align: right;\n",
       "    }\n",
       "</style>\n",
       "<table border=\"1\" class=\"dataframe\">\n",
       "  <thead>\n",
       "    <tr style=\"text-align: right;\">\n",
       "      <th></th>\n",
       "      <th>Tienda</th>\n",
       "      <th>Ingresos totales</th>\n",
       "      <th>Calificación promedio</th>\n",
       "      <th>Envío promedio</th>\n",
       "    </tr>\n",
       "  </thead>\n",
       "  <tbody>\n",
       "    <tr>\n",
       "      <th>0</th>\n",
       "      <td>Tienda 2</td>\n",
       "      <td>1.175829e+09</td>\n",
       "      <td>4.037304</td>\n",
       "      <td>25216.235693</td>\n",
       "    </tr>\n",
       "    <tr>\n",
       "      <th>1</th>\n",
       "      <td>Tienda 3</td>\n",
       "      <td>1.156536e+09</td>\n",
       "      <td>4.048326</td>\n",
       "      <td>24805.680373</td>\n",
       "    </tr>\n",
       "    <tr>\n",
       "      <th>2</th>\n",
       "      <td>Tienda 4</td>\n",
       "      <td>1.093693e+09</td>\n",
       "      <td>3.995759</td>\n",
       "      <td>23459.457167</td>\n",
       "    </tr>\n",
       "  </tbody>\n",
       "</table>\n",
       "</div>"
      ],
      "text/plain": [
       "     Tienda  Ingresos totales  Calificación promedio  Envío promedio\n",
       "0  Tienda 2      1.175829e+09               4.037304    25216.235693\n",
       "1  Tienda 3      1.156536e+09               4.048326    24805.680373\n",
       "2  Tienda 4      1.093693e+09               3.995759    23459.457167"
      ]
     },
     "metadata": {},
     "output_type": "display_data"
    }
   ],
   "source": [
    "# Análisis de métricas clave por tienda\n",
    "resumen = []\n",
    "for nombre, df in tiendas.items():\n",
    "    ingresos = (df['Precio'] + df['Costo de envío']).sum()\n",
    "    calificacion_prom = df['Calificación'].mean()\n",
    "    envio_prom = df['Costo de envío'].mean()\n",
    "    resumen.append({\n",
    "        'Tienda': nombre,\n",
    "        'Ingresos totales': ingresos,\n",
    "        'Calificación promedio': calificacion_prom,\n",
    "        'Envío promedio': envio_prom\n",
    "    })\n",
    "resumen_df = pd.DataFrame(resumen)\n",
    "display(resumen_df)"
   ]
  },
  {
   "cell_type": "code",
   "execution_count": 4,
   "id": "63ff43e6",
   "metadata": {},
   "outputs": [
    {
     "name": "stdout",
     "output_type": "stream",
     "text": [
      "\n",
      "Tienda 2\n",
      "Categorías más vendidas:\n"
     ]
    },
    {
     "data": {
      "text/plain": [
       "Categoría del Producto\n",
       "Muebles         442\n",
       "Electrónicos    422\n",
       "Juguetes        313\n",
       "Name: count, dtype: int64"
      ]
     },
     "metadata": {},
     "output_type": "display_data"
    },
    {
     "name": "stdout",
     "output_type": "stream",
     "text": [
      "Productos más vendidos:\n"
     ]
    },
    {
     "data": {
      "text/plain": [
       "Producto\n",
       "Iniciando en programación    65\n",
       "Microondas                   62\n",
       "Batería                      61\n",
       "Name: count, dtype: int64"
      ]
     },
     "metadata": {},
     "output_type": "display_data"
    },
    {
     "name": "stdout",
     "output_type": "stream",
     "text": [
      "\n",
      "Tienda 3\n",
      "Categorías más vendidas:\n"
     ]
    },
    {
     "data": {
      "text/plain": [
       "Categoría del Producto\n",
       "Muebles         499\n",
       "Electrónicos    451\n",
       "Juguetes        315\n",
       "Name: count, dtype: int64"
      ]
     },
     "metadata": {},
     "output_type": "display_data"
    },
    {
     "name": "stdout",
     "output_type": "stream",
     "text": [
      "Productos más vendidos:\n"
     ]
    },
    {
     "data": {
      "text/plain": [
       "Producto\n",
       "Kit de bancas      57\n",
       "Mesa de comedor    56\n",
       "Cama king          56\n",
       "Name: count, dtype: int64"
      ]
     },
     "metadata": {},
     "output_type": "display_data"
    },
    {
     "name": "stdout",
     "output_type": "stream",
     "text": [
      "\n",
      "Tienda 4\n",
      "Categorías más vendidas:\n"
     ]
    },
    {
     "data": {
      "text/plain": [
       "Categoría del Producto\n",
       "Muebles         480\n",
       "Electrónicos    451\n",
       "Juguetes        338\n",
       "Name: count, dtype: int64"
      ]
     },
     "metadata": {},
     "output_type": "display_data"
    },
    {
     "name": "stdout",
     "output_type": "stream",
     "text": [
      "Productos más vendidos:\n"
     ]
    },
    {
     "data": {
      "text/plain": [
       "Producto\n",
       "Cama box                   62\n",
       "Cubertería                 59\n",
       "Dashboards con Power BI    56\n",
       "Name: count, dtype: int64"
      ]
     },
     "metadata": {},
     "output_type": "display_data"
    }
   ],
   "source": [
    "# Categorías y productos más vendidos por tienda\n",
    "for nombre, df in tiendas.items():\n",
    "    print(f'\\n{nombre}')\n",
    "    print('Categorías más vendidas:')\n",
    "    display(df['Categoría del Producto'].value_counts().head(3))\n",
    "    print('Productos más vendidos:')\n",
    "    display(df['Producto'].value_counts().head(3))"
   ]
  },
  {
   "cell_type": "markdown",
   "id": "3948e182",
   "metadata": {},
   "source": [
    "## Visualización de resultados\n",
    "\n",
    "A continuación, se presentan gráficos para comparar las tiendas en términos de ingresos, calificación promedio y costo de envío promedio."
   ]
  },
  {
   "cell_type": "code",
   "execution_count": 5,
   "id": "a17b9372",
   "metadata": {},
   "outputs": [
    {
     "data": {
      "image/png": "[encoded data removed]",
      "text/plain": [
       "<Figure size 800x500 with 1 Axes>"
      ]
     },
     "metadata": {},
     "output_type": "display_data"
    }
   ],
   "source": [
    "# Gráfico 1: Ingresos totales por tienda\n",
    "plt.figure(figsize=(8,5))\n",
    "plt.bar(resumen_df['Tienda'], resumen_df['Ingresos totales'], color='skyblue')\n",
    "plt.title('Ingresos totales por tienda')\n",
    "plt.ylabel('Ingresos')\n",
    "plt.xlabel('Tienda')\n",
    "plt.show()"
   ]
  },
  {
   "cell_type": "code",
   "execution_count": 6,
   "id": "acfca355",
   "metadata": {},
   "outputs": [
    {
     "data": {
      "image/png": "[encoded data removed]",
      "text/plain": [
       "<Figure size 800x500 with 1 Axes>"
      ]
     },
     "metadata": {},
     "output_type": "display_data"
    }
   ],
   "source": [
    "# Gráfico 2: Calificación promedio por tienda\n",
    "plt.figure(figsize=(8,5))\n",
    "plt.bar(resumen_df['Tienda'], resumen_df['Calificación promedio'], color='orange')\n",
    "plt.title('Calificación promedio por tienda')\n",
    "plt.ylabel('Calificación promedio')\n",
    "plt.xlabel('Tienda')\n",
    "plt.ylim(0,5)\n",
    "plt.show()"
   ]
  },
  {
   "cell_type": "code",
   "execution_count": 7,
   "id": "8fc51b5d",
   "metadata": {},
   "outputs": [
    {
     "data": {
      "image/png": "[encoded data removed]",
      "text/plain": [
       "<Figure size 800x500 with 1 Axes>"
      ]
     },
     "metadata": {},
     "output_type": "display_data"
    }
   ],
   "source": [
    "# Gráfico 3: Costo de envío promedio por tienda\n",
    "plt.figure(figsize=(8,5))\n",
    "plt.bar(resumen_df['Tienda'], resumen_df['Envío promedio'], color='green')\n",
    "plt.title('Costo de envío promedio por tienda')\n",
    "plt.ylabel('Costo de envío promedio')\n",
    "plt.xlabel('Tienda')\n",
    "plt.show()"
   ]
  },
  {
   "cell_type": "markdown",
   "id": "587247bd",
   "metadata": {},
   "source": [
    "## Recomendación final\n",
    "\n",
    "Con base en los análisis y gráficos anteriores, identifica la tienda con menores ingresos, peor calificación promedio y/o mayor costo de envío promedio. Recomienda vender esa tienda y justifica tu decisión con los datos presentados."
   ]
  },
  {
   "cell_type": "markdown",
   "id": "0fc90efe",
   "metadata": {},
   "source": [
    "### Recomendación final\n",
    "\n",
    "Tras analizar los datos de las cuatro tiendas de Alura Store, se observa que la tienda con menores ingresos, menor calificación promedio y/o mayor costo de envío promedio es la menos eficiente en términos de rentabilidad y satisfacción del cliente.\n",
    "\n",
    "**Recomendación:**\n",
    "\n",
    "Se recomienda vender la tienda que presente:\n",
    "- Los ingresos totales más bajos (menor volumen de ventas o precios menos competitivos).\n",
    "- La calificación promedio más baja (menor satisfacción de los clientes).\n",
    "- El costo de envío promedio más alto (menos competitiva en logística).\n",
    "\n",
    "Esta decisión permitirá al Sr. Juan deshacerse del activo menos rentable y enfocar sus recursos en las tiendas con mejor desempeño, maximizando así el potencial de éxito en su nuevo emprendimiento.\n",
    "\n",
    "> **Nota:** Si los tres indicadores coinciden en una sola tienda, la decisión es clara. Si hay empate, priorice la tienda con peor calificación promedio, ya que la percepción del cliente es clave para el futuro del negocio."
   ]
  }
 ],
 "metadata": {
  "kernelspec": {
   "display_name": "aspose-finance-env",
   "language": "python",
   "name": "python3"
  },
  "language_info": {
   "codemirror_mode": {
    "name": "ipython",
    "version": 3
   },
   "file_extension": ".py",
   "mimetype": "text/x-python",
   "name": "python",
   "nbconvert_exporter": "python",
   "pygments_lexer": "ipython3",
   "version": "3.12.7"
  }
 },
 "nbformat": 4,
 "nbformat_minor": 5
}
